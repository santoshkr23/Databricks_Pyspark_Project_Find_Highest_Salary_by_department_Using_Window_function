{
 "cells": [
  {
   "cell_type": "markdown",
   "metadata": {
    "application/vnd.databricks.v1+cell": {
     "cellMetadata": {},
     "inputWidgets": {},
     "nuid": "70e1d852-d242-475b-b9f9-6e80c5a974c1",
     "showTitle": false,
     "title": ""
    }
   },
   "source": [
    "PROJECT SANTOSH KUMAR"
   ]
  },
  {
   "cell_type": "code",
   "execution_count": 0,
   "metadata": {
    "application/vnd.databricks.v1+cell": {
     "cellMetadata": {
      "byteLimit": 2048000,
      "rowLimit": 10000
     },
     "inputWidgets": {},
     "nuid": "2f353d4e-9df9-4ae1-a290-864f774518bc",
     "showTitle": false,
     "title": ""
    }
   },
   "outputs": [],
   "source": [
    "from pyspark.sql import SparkSession\n",
    "from pyspark.sql.window import Window\n",
    "from pyspark.sql.functions import col,row_number, dense_rank ,rank\n",
    "from pyspark.sql.types import StructType, StructField, StringType, IntegerType"
   ]
  },
  {
   "cell_type": "code",
   "execution_count": 0,
   "metadata": {
    "application/vnd.databricks.v1+cell": {
     "cellMetadata": {
      "byteLimit": 2048000,
      "rowLimit": 10000
     },
     "inputWidgets": {},
     "nuid": "79b62d4a-2217-486c-b29d-f7399e55b654",
     "showTitle": false,
     "title": ""
    }
   },
   "outputs": [
    {
     "output_type": "display_data",
     "data": {
      "text/html": [
       "<style scoped>\n",
       "  .table-result-container {\n",
       "    max-height: 300px;\n",
       "    overflow: auto;\n",
       "  }\n",
       "  table, th, td {\n",
       "    border: 1px solid black;\n",
       "    border-collapse: collapse;\n",
       "  }\n",
       "  th, td {\n",
       "    padding: 5px;\n",
       "  }\n",
       "  th {\n",
       "    text-align: left;\n",
       "  }\n",
       "</style><div class='table-result-container'><table class='table-result'><thead style='background-color: white'><tr><th>Name</th><th>Department</th><th>Salary</th></tr></thead><tbody><tr><td>James</td><td>Sales</td><td>3000</td></tr><tr><td>Michael</td><td>Sales</td><td>4600</td></tr><tr><td>Robert</td><td>Sales</td><td>4100</td></tr><tr><td>Maria</td><td>Finance</td><td>3000</td></tr><tr><td>Raman</td><td>Finance</td><td>3000</td></tr><tr><td>Scott</td><td>Finance</td><td>3300</td></tr><tr><td>Jen</td><td>Finance</td><td>3900</td></tr><tr><td>Jeff</td><td>Marketing</td><td>3000</td></tr><tr><td>Kumar</td><td>Marketing</td><td>2000</td></tr></tbody></table></div>"
      ]
     },
     "metadata": {
      "application/vnd.databricks.v1+output": {
       "addedWidgets": {},
       "aggData": [],
       "aggError": "",
       "aggOverflow": false,
       "aggSchema": [],
       "aggSeriesLimitReached": false,
       "aggType": "",
       "arguments": {},
       "columnCustomDisplayInfos": {},
       "data": [
        [
         "James",
         "Sales",
         3000
        ],
        [
         "Michael",
         "Sales",
         4600
        ],
        [
         "Robert",
         "Sales",
         4100
        ],
        [
         "Maria",
         "Finance",
         3000
        ],
        [
         "Raman",
         "Finance",
         3000
        ],
        [
         "Scott",
         "Finance",
         3300
        ],
        [
         "Jen",
         "Finance",
         3900
        ],
        [
         "Jeff",
         "Marketing",
         3000
        ],
        [
         "Kumar",
         "Marketing",
         2000
        ]
       ],
       "datasetInfos": [],
       "dbfsResultPath": null,
       "isJsonSchema": true,
       "metadata": {},
       "overflow": false,
       "plotOptions": {
        "customPlotOptions": {},
        "displayType": "table",
        "pivotAggregation": null,
        "pivotColumns": null,
        "xColumns": null,
        "yColumns": null
       },
       "removedWidgets": [],
       "schema": [
        {
         "metadata": "{}",
         "name": "Name",
         "type": "\"string\""
        },
        {
         "metadata": "{}",
         "name": "Department",
         "type": "\"string\""
        },
        {
         "metadata": "{}",
         "name": "Salary",
         "type": "\"integer\""
        }
       ],
       "type": "table"
      }
     },
     "output_type": "display_data"
    }
   ],
   "source": [
    "data = [(\"James\",\"Sales\",3000),\n",
    "        (\"Michael\",\"Sales\",4600),\n",
    "      (\"Robert\",\"Sales\",4100),\n",
    "      (\"Maria\",\"Finance\",3000),\n",
    "      (\"Raman\",\"Finance\",3000),\n",
    "      (\"Scott\",\"Finance\",3300),\n",
    "      (\"Jen\",\"Finance\",3900),\n",
    "      (\"Jeff\",\"Marketing\",3000),\n",
    "      (\"Kumar\",\"Marketing\",2000)]\n",
    "\n",
    "\n",
    "schema =StructType([\n",
    "    StructField(\"Name\",StringType(),True),\n",
    "    StructField(\"Department\",StringType(),True),\n",
    "    StructField(\"Salary\",IntegerType(),True)\n",
    "])\n",
    "\n",
    "df = spark.createDataFrame(data,schema)\n",
    "df.display()"
   ]
  },
  {
   "cell_type": "markdown",
   "metadata": {
    "application/vnd.databricks.v1+cell": {
     "cellMetadata": {},
     "inputWidgets": {},
     "nuid": "1461adc8-3c77-438d-969f-c741fbceb9b8",
     "showTitle": false,
     "title": ""
    }
   },
   "source": [
    "#2nd Highest salary By each department"
   ]
  },
  {
   "cell_type": "markdown",
   "metadata": {
    "application/vnd.databricks.v1+cell": {
     "cellMetadata": {},
     "inputWidgets": {},
     "nuid": "ff24145f-471d-46c0-bd27-7865c290f752",
     "showTitle": false,
     "title": ""
    }
   },
   "source": [
    "## ROW NUMBER"
   ]
  },
  {
   "cell_type": "code",
   "execution_count": 0,
   "metadata": {
    "application/vnd.databricks.v1+cell": {
     "cellMetadata": {
      "byteLimit": 2048000,
      "rowLimit": 10000
     },
     "inputWidgets": {},
     "nuid": "0f485322-0a44-42ee-b4e8-15137074baa6",
     "showTitle": false,
     "title": ""
    }
   },
   "outputs": [
    {
     "output_type": "stream",
     "name": "stdout",
     "output_type": "stream",
     "text": [
      "+-----+----------+------+\n| Name|Department|Salary|\n+-----+----------+------+\n|Scott|   Finance|  3300|\n+-----+----------+------+\n\n"
     ]
    }
   ],
   "source": [
    "Window_Dept = Window.partitionBy(\"Department\").orderBy(col(\"Salary\").desc())\n",
    "df2=df.withColumn(\"row_number\",row_number().over(Window_Dept))\n",
    "df2 = df2.filter(col(\"row_number\") == 2)\\\n",
    "         .filter(col(\"Department\")=='Finance')\n",
    "\n",
    "df3=df2.select(\"Name\",\"Department\",\"Salary\")\n",
    "\n",
    "df3.show()"
   ]
  },
  {
   "cell_type": "markdown",
   "metadata": {
    "application/vnd.databricks.v1+cell": {
     "cellMetadata": {},
     "inputWidgets": {},
     "nuid": "6a64c26e-00fb-43fc-b5e0-22c44081c5e8",
     "showTitle": false,
     "title": ""
    }
   },
   "source": [
    "DROP THE COLUMN \n",
    "df2=df2.drop(\"row_number\")"
   ]
  },
  {
   "cell_type": "code",
   "execution_count": 0,
   "metadata": {
    "application/vnd.databricks.v1+cell": {
     "cellMetadata": {
      "byteLimit": 2048000,
      "rowLimit": 10000
     },
     "inputWidgets": {},
     "nuid": "dc6b3d3f-9d78-4e17-8e87-cd9edc15a501",
     "showTitle": false,
     "title": ""
    }
   },
   "outputs": [
    {
     "output_type": "stream",
     "name": "stdout",
     "output_type": "stream",
     "text": [
      "+-----+----------+------+\n| Name|Department|Salary|\n+-----+----------+------+\n|Scott|   Finance|  3300|\n+-----+----------+------+\n\n"
     ]
    }
   ],
   "source": [
    "df2=df2.drop(\"row_number\")\n",
    "df2.show()"
   ]
  },
  {
   "cell_type": "markdown",
   "metadata": {
    "application/vnd.databricks.v1+cell": {
     "cellMetadata": {},
     "inputWidgets": {},
     "nuid": "97722023-2399-4df8-baa3-5a6e938d87be",
     "showTitle": false,
     "title": ""
    }
   },
   "source": [
    "##  DENSE_RANK\n"
   ]
  },
  {
   "cell_type": "code",
   "execution_count": 0,
   "metadata": {
    "application/vnd.databricks.v1+cell": {
     "cellMetadata": {
      "byteLimit": 2048000,
      "rowLimit": 10000
     },
     "inputWidgets": {},
     "nuid": "f2598065-020d-487a-8224-37da5c087c45",
     "showTitle": false,
     "title": ""
    }
   },
   "outputs": [
    {
     "output_type": "display_data",
     "data": {
      "text/html": [
       "<style scoped>\n",
       "  .table-result-container {\n",
       "    max-height: 300px;\n",
       "    overflow: auto;\n",
       "  }\n",
       "  table, th, td {\n",
       "    border: 1px solid black;\n",
       "    border-collapse: collapse;\n",
       "  }\n",
       "  th, td {\n",
       "    padding: 5px;\n",
       "  }\n",
       "  th {\n",
       "    text-align: left;\n",
       "  }\n",
       "</style><div class='table-result-container'><table class='table-result'><thead style='background-color: white'><tr><th>Name</th><th>Department</th><th>Salary</th><th>Dense_Rank</th></tr></thead><tbody><tr><td>Jen</td><td>Finance</td><td>3900</td><td>1</td></tr><tr><td>Scott</td><td>Finance</td><td>3300</td><td>2</td></tr><tr><td>Maria</td><td>Finance</td><td>3000</td><td>3</td></tr><tr><td>Raman</td><td>Finance</td><td>3000</td><td>3</td></tr><tr><td>Jeff</td><td>Marketing</td><td>3000</td><td>1</td></tr><tr><td>Kumar</td><td>Marketing</td><td>2000</td><td>2</td></tr><tr><td>Michael</td><td>Sales</td><td>4600</td><td>1</td></tr><tr><td>Robert</td><td>Sales</td><td>4100</td><td>2</td></tr><tr><td>James</td><td>Sales</td><td>3000</td><td>3</td></tr></tbody></table></div>"
      ]
     },
     "metadata": {
      "application/vnd.databricks.v1+output": {
       "addedWidgets": {},
       "aggData": [],
       "aggError": "",
       "aggOverflow": false,
       "aggSchema": [],
       "aggSeriesLimitReached": false,
       "aggType": "",
       "arguments": {},
       "columnCustomDisplayInfos": {},
       "data": [
        [
         "Jen",
         "Finance",
         3900,
         1
        ],
        [
         "Scott",
         "Finance",
         3300,
         2
        ],
        [
         "Maria",
         "Finance",
         3000,
         3
        ],
        [
         "Raman",
         "Finance",
         3000,
         3
        ],
        [
         "Jeff",
         "Marketing",
         3000,
         1
        ],
        [
         "Kumar",
         "Marketing",
         2000,
         2
        ],
        [
         "Michael",
         "Sales",
         4600,
         1
        ],
        [
         "Robert",
         "Sales",
         4100,
         2
        ],
        [
         "James",
         "Sales",
         3000,
         3
        ]
       ],
       "datasetInfos": [],
       "dbfsResultPath": null,
       "isJsonSchema": true,
       "metadata": {},
       "overflow": false,
       "plotOptions": {
        "customPlotOptions": {},
        "displayType": "table",
        "pivotAggregation": null,
        "pivotColumns": null,
        "xColumns": null,
        "yColumns": null
       },
       "removedWidgets": [],
       "schema": [
        {
         "metadata": "{}",
         "name": "Name",
         "type": "\"string\""
        },
        {
         "metadata": "{}",
         "name": "Department",
         "type": "\"string\""
        },
        {
         "metadata": "{}",
         "name": "Salary",
         "type": "\"integer\""
        },
        {
         "metadata": "{}",
         "name": "Dense_Rank",
         "type": "\"integer\""
        }
       ],
       "type": "table"
      }
     },
     "output_type": "display_data"
    },
    {
     "output_type": "display_data",
     "data": {
      "text/plain": [
       "Databricks visualization. Run in Databricks to view."
      ]
     },
     "metadata": {
      "application/vnd.databricks.v1.subcommand+json": {
       "baseErrorDetails": null,
       "bindings": {},
       "collapsed": false,
       "command": "%python\n__backend_agg_display_orig = display\n__backend_agg_dfs = []\ndef __backend_agg_display_new(df):\n    __backend_agg_df_modules = [\"pandas.core.frame\", \"databricks.koalas.frame\", \"pyspark.sql.dataframe\", \"pyspark.pandas.frame\", \"pyspark.sql.connect.dataframe\"]\n    if (type(df).__module__ in __backend_agg_df_modules and type(df).__name__ == 'DataFrame') or isinstance(df, list):\n        __backend_agg_dfs.append(df)\n\ndisplay = __backend_agg_display_new\n\ndef __backend_agg_user_code_fn():\n    import base64\n    exec(base64.standard_b64decode(\"V2luZG93X0RlbnNlPVdpbmRvdy5wYXJ0aXRpb25CeSgiRGVwYXJ0bWVudCIpLm9yZGVyQnkoY29sKCJTYWxhcnkiKS5kZXNjKCkpCgpkZl9kZW5zZXJhbms9ZGYud2l0aENvbHVtbigiRGVuc2VfUmFuayIsZGVuc2VfcmFuaygpLm92ZXIoV2luZG93X0RlbnNlKSkKIyBBZGQgYSBuZXcgY29sdW1uIHdpdGggZGVuc2UgcmFua3Mgd2l0aGluIGVhY2ggZGVwYXJ0bWVudApkZl9kZW5zZXJhbmsgPSBkZi53aXRoQ29sdW1uKCJEZW5zZV9SYW5rIiwgZGVuc2VfcmFuaygpLm92ZXIoV2luZG93X0RlbnNlKSkKCgojIFNob3cgdGhlIHJlc3VsdApkZl9kZW5zZXJhbmsuZGlzcGxheSgpCg==\").decode())\n\ntry:\n    # run user code\n    __backend_agg_user_code_fn()\n\n    #reset display function\n    display = __backend_agg_display_orig\n\n    if len(__backend_agg_dfs) > 0:\n        # create a temp view\n        if type(__backend_agg_dfs[0]).__module__ == \"databricks.koalas.frame\":\n            # koalas dataframe\n            __backend_agg_dfs[0].to_spark().createOrReplaceTempView(\"DatabricksView8bc5359\")\n        elif type(__backend_agg_dfs[0]).__module__ == \"pandas.core.frame\" or isinstance(__backend_agg_dfs[0], list):\n            # pandas dataframe\n            spark.createDataFrame(__backend_agg_dfs[0]).createOrReplaceTempView(\"DatabricksView8bc5359\")\n        else:\n            __backend_agg_dfs[0].createOrReplaceTempView(\"DatabricksView8bc5359\")\n        #run backend agg\n        display(spark.sql(\"\"\"WITH q AS (select * from DatabricksView8bc5359) SELECT `Department`,SUM(`Salary`) `column_498b159a5`,`Department` FROM q GROUP BY `Department`\"\"\"))\n    else:\n        displayHTML(\"dataframe no longer exists. If you're using dataframe.display(), use display(dataframe) instead.\")\n\n\nfinally:\n    spark.sql(\"drop view if exists DatabricksView8bc5359\")\n    display = __backend_agg_display_orig\n    del __backend_agg_display_new\n    del __backend_agg_display_orig\n    del __backend_agg_dfs\n    del __backend_agg_user_code_fn\n\n",
       "commandTitle": "Visualization 1",
       "commandType": "auto",
       "commandVersion": 0,
       "commentThread": [],
       "commentsVisible": false,
       "contentSha256Hex": null,
       "customPlotOptions": {
        "redashChart": [
         {
          "key": "type",
          "value": "CHART"
         },
         {
          "key": "options",
          "value": {
           "alignYAxesAtZero": true,
           "coefficient": 1,
           "columnConfigurationMap": {
            "series": {
             "column": "Department",
             "id": "column_498b159a2"
            },
            "x": {
             "column": "Department",
             "id": "column_498b159a7"
            },
            "y": [
             {
              "column": "Salary",
              "id": "column_498b159a5",
              "transform": "SUM"
             }
            ]
           },
           "dateTimeFormat": "DD/MM/YYYY HH:mm",
           "direction": {
            "type": "counterclockwise"
           },
           "error_y": {
            "type": "data",
            "visible": true
           },
           "globalSeriesType": "column",
           "isAggregationOn": true,
           "legend": {
            "enabled": true,
            "placement": "auto",
            "traceorder": "normal"
           },
           "missingValuesAsZero": true,
           "numberFormat": "0,0.[00000]",
           "percentFormat": "0[.]00%",
           "series": {
            "error_y": {
             "type": "data",
             "visible": true
            },
            "percentValues": false,
            "stacking": "stack"
           },
           "seriesOptions": {
            "column_498b159a5": {
             "type": "column",
             "yAxis": 0
            }
           },
           "showDataLabels": false,
           "sizemode": "diameter",
           "sortX": true,
           "sortY": true,
           "swappedAxes": false,
           "textFormat": "",
           "useAggregationsUi": true,
           "valuesOptions": {},
           "version": 2,
           "xAxis": {
            "labels": {
             "enabled": true
            },
            "type": "-"
           },
           "yAxis": [
            {
             "type": "-"
            },
            {
             "opposite": true,
             "type": "-"
            }
           ]
          }
         }
        ]
       },
       "datasetPreviewNameToCmdIdMap": {},
       "diffDeletes": [],
       "diffInserts": [],
       "displayType": "redashChart",
       "error": null,
       "errorDetails": null,
       "errorSummary": null,
       "errorTraceType": null,
       "finishTime": 0,
       "globalVars": {},
       "guid": "",
       "height": "auto",
       "hideCommandCode": false,
       "hideCommandResult": false,
       "iPythonMetadata": null,
       "inputWidgets": {},
       "isLockedInExamMode": false,
       "latestUser": "a user",
       "latestUserId": null,
       "listResultMetadata": null,
       "metadata": {},
       "nuid": "9b2ce121-01c3-4b10-9c6a-2e1d92a3553e",
       "origId": 0,
       "parentHierarchy": [],
       "pivotAggregation": null,
       "pivotColumns": null,
       "position": 2.625,
       "resultDbfsErrorMessage": null,
       "resultDbfsStatus": "INLINED_IN_TREE",
       "results": null,
       "showCommandTitle": false,
       "startTime": 0,
       "state": "input",
       "streamStates": {},
       "subcommandOptions": {
        "queryPlan": {
         "groups": [
          {
           "column": "Department",
           "type": "column"
          },
          {
           "column": "Department",
           "type": "column"
          }
         ],
         "selects": [
          {
           "column": "Department",
           "type": "column"
          },
          {
           "alias": "column_498b159a5",
           "args": [
            {
             "column": "Salary",
             "type": "column"
            }
           ],
           "function": "SUM",
           "type": "function"
          },
          {
           "column": "Department",
           "type": "column"
          }
         ]
        }
       },
       "submitTime": 0,
       "subtype": "tableResultSubCmd.visualization",
       "tableResultIndex": 0,
       "useConsistentColors": false,
       "version": "CommandV1",
       "width": "auto",
       "workflows": [],
       "xColumns": null,
       "yColumns": null
      }
     },
     "output_type": "display_data"
    },
    {
     "output_type": "display_data",
     "data": {
      "text/plain": [
       "Databricks data profile. Run in Databricks to view."
      ]
     },
     "metadata": {
      "application/vnd.databricks.v1.subcommand+json": {
       "baseErrorDetails": null,
       "bindings": {},
       "collapsed": false,
       "command": "%python\nif hasattr(dbutils, \"data\") and hasattr(dbutils.data, \"summarize\"):\n  # setup\n  __data_summary_display_orig = display\n  __data_summary_dfs = []\n  def __data_summary_display_new(df):\n    # add only when result is going to be table type\n    __data_summary_df_modules = [\"pandas.core.frame\", \"databricks.koalas.frame\", \"pyspark.sql.dataframe\", \"pyspark.pandas.frame\", \"pyspark.sql.connect.dataframe\"]\n    if (type(df).__module__ in __data_summary_df_modules and type(df).__name__ == 'DataFrame') or isinstance(df, list):\n      __data_summary_dfs.append(df)\n  display = __data_summary_display_new\n\n  def __data_summary_user_code_fn():\n    import base64\n    exec(base64.standard_b64decode(\"V2luZG93X0RlbnNlPVdpbmRvdy5wYXJ0aXRpb25CeSgiRGVwYXJ0bWVudCIpLm9yZGVyQnkoY29sKCJTYWxhcnkiKS5kZXNjKCkpCgpkZl9kZW5zZXJhbms9ZGYud2l0aENvbHVtbigiRGVuc2VfUmFuayIsZGVuc2VfcmFuaygpLm92ZXIoV2luZG93X0RlbnNlKSkKIyBBZGQgYSBuZXcgY29sdW1uIHdpdGggZGVuc2UgcmFua3Mgd2l0aGluIGVhY2ggZGVwYXJ0bWVudApkZl9kZW5zZXJhbmsgPSBkZi53aXRoQ29sdW1uKCJEZW5zZV9SYW5rIiwgZGVuc2VfcmFuaygpLm92ZXIoV2luZG93X0RlbnNlKSkKCgojIFNob3cgdGhlIHJlc3VsdApkZl9kZW5zZXJhbmsuZGlzcGxheSgpCg==\").decode())\n\n  try:\n    # run user code\n    __data_summary_user_code_fn()\n\n    # run on valid tableResultIndex\n    if len(__data_summary_dfs) > 0:\n      # run summarize\n      if type(__data_summary_dfs[0]).__module__ == \"databricks.koalas.frame\":\n        # koalas dataframe\n        dbutils.data.summarize(__data_summary_dfs[0].to_spark())\n      elif type(__data_summary_dfs[0]).__module__ == \"pandas.core.frame\":\n        # pandas dataframe\n        dbutils.data.summarize(spark.createDataFrame(__data_summary_dfs[0]))\n      else:\n        dbutils.data.summarize(__data_summary_dfs[0])\n    else:\n        displayHTML(\"dataframe no longer exists. If you're using dataframe.display(), use display(dataframe) instead.\")\n\n  finally:\n    display = __data_summary_display_orig\n    del __data_summary_display_new\n    del __data_summary_display_orig\n    del __data_summary_dfs\n    del __data_summary_user_code_fn\nelse:\n  print(\"This DBR version does not support data profiles.\")",
       "commandTitle": "Data Profile 1",
       "commandType": "auto",
       "commandVersion": 0,
       "commentThread": [],
       "commentsVisible": false,
       "contentSha256Hex": null,
       "customPlotOptions": {},
       "datasetPreviewNameToCmdIdMap": {},
       "diffDeletes": [],
       "diffInserts": [],
       "displayType": "table",
       "error": null,
       "errorDetails": null,
       "errorSummary": null,
       "errorTraceType": null,
       "finishTime": 1717163810057,
       "globalVars": {},
       "guid": "",
       "height": "auto",
       "hideCommandCode": false,
       "hideCommandResult": false,
       "iPythonMetadata": null,
       "inputWidgets": {},
       "isLockedInExamMode": false,
       "latestUser": "a user",
       "latestUserId": null,
       "listResultMetadata": [
        [
         "table",
         9
        ],
        [
         "mimeBundle",
         null
        ]
       ],
       "metadata": {
        "byteLimit": 2048000,
        "rowLimit": 10000
       },
       "nuid": "5d8a953a-7ac7-42e5-9218-5674e591247f",
       "origId": 0,
       "parentHierarchy": [],
       "pivotAggregation": null,
       "pivotColumns": null,
       "position": 3.625,
       "resultDbfsErrorMessage": null,
       "resultDbfsStatus": "INLINED_IN_TREE",
       "results": {
        "addedWidgets": {},
        "arguments": {},
        "data": [
         {
          "addedWidgets": {},
          "aggData": [],
          "aggError": "",
          "aggOverflow": false,
          "aggSchema": [],
          "aggSeriesLimitReached": false,
          "aggType": "",
          "arguments": {},
          "columnCustomDisplayInfos": {},
          "data": [
           [
            "Jen",
            "Finance",
            3900,
            1
           ],
           [
            "Scott",
            "Finance",
            3300,
            2
           ],
           [
            "Maria",
            "Finance",
            3000,
            3
           ],
           [
            "Raman",
            "Finance",
            3000,
            3
           ],
           [
            "Jeff",
            "Marketing",
            3000,
            1
           ],
           [
            "Kumar",
            "Marketing",
            2000,
            2
           ],
           [
            "Michael",
            "Sales",
            4600,
            1
           ],
           [
            "Robert",
            "Sales",
            4100,
            2
           ],
           [
            "James",
            "Sales",
            3000,
            3
           ]
          ],
          "datasetInfos": [],
          "dbfsResultPath": null,
          "isJsonSchema": true,
          "metadata": {},
          "overflow": false,
          "plotOptions": null,
          "removedWidgets": [],
          "schema": [
           {
            "metadata": "{}",
            "name": "Name",
            "type": "\"string\""
           },
           {
            "metadata": "{}",
            "name": "Department",
            "type": "\"string\""
           },
           {
            "metadata": "{}",
            "name": "Salary",
            "type": "\"integer\""
           },
           {
            "metadata": "{}",
            "name": "Dense_Rank",
            "type": "\"integer\""
           }
          ],
          "type": "table"
         },
         {
          "addedWidgets": {},
          "arguments": {},
          "data": {
           "text/html": "dataframe no longer exists. If you're using dataframe.display(), use display(dataframe) instead."
          },
          "datasetInfos": [],
          "executionCount": null,
          "metadata": {
           "kernelSessionId": "58209046-473c9dd1ced7c7e0f751eb87"
          },
          "removedWidgets": [],
          "type": "mimeBundle"
         }
        ],
        "datasetInfos": [],
        "metadata": {
         "isDbfsCommandResult": false
        },
        "removedWidgets": [],
        "type": "listResults"
       },
       "showCommandTitle": false,
       "startTime": 1717163808786,
       "state": "finished",
       "streamStates": {},
       "subcommandOptions": null,
       "submitTime": 1717163808700,
       "subtype": "tableResultSubCmd.dataSummary",
       "tableResultIndex": 0,
       "useConsistentColors": false,
       "version": "CommandV1",
       "width": "auto",
       "workflows": [],
       "xColumns": null,
       "yColumns": null
      }
     },
     "output_type": "display_data"
    }
   ],
   "source": [
    "Window_Dense=Window.partitionBy(\"Department\").orderBy(col(\"Salary\").desc())\n",
    "\n",
    "df_denserank=df.withColumn(\"Dense_Rank\",dense_rank().over(Window_Dense))\n",
    "# Add a new column with dense ranks within each department\n",
    "df_denserank = df.withColumn(\"Dense_Rank\", dense_rank().over(Window_Dense))\n",
    "\n",
    "\n",
    "# Show the result\n",
    "df_denserank.display()\n"
   ]
  },
  {
   "cell_type": "markdown",
   "metadata": {
    "application/vnd.databricks.v1+cell": {
     "cellMetadata": {},
     "inputWidgets": {},
     "nuid": "653b182c-3f30-4c99-a47f-e4ced0672d38",
     "showTitle": false,
     "title": ""
    }
   },
   "source": [
    "## Filter Highest SALARY Using DENSE_RANK "
   ]
  },
  {
   "cell_type": "code",
   "execution_count": 0,
   "metadata": {
    "application/vnd.databricks.v1+cell": {
     "cellMetadata": {
      "byteLimit": 2048000,
      "rowLimit": 10000
     },
     "inputWidgets": {},
     "nuid": "68a89343-1713-4ae0-851f-99db0c2aa063",
     "showTitle": false,
     "title": ""
    }
   },
   "outputs": [
    {
     "output_type": "stream",
     "name": "stdout",
     "output_type": "stream",
     "text": [
      "+-------+----------+------+----------+\n|   Name|Department|Salary|Dense_Rank|\n+-------+----------+------+----------+\n|    Jen|   Finance|  3900|         1|\n|   Jeff| Marketing|  3000|         1|\n|Michael|     Sales|  4600|         1|\n+-------+----------+------+----------+\n\n"
     ]
    }
   ],
   "source": [
    "df_filter= df_denserank.filter(col(\"Dense_Rank\")==1)\n",
    "df_filter.show()"
   ]
  },
  {
   "cell_type": "markdown",
   "metadata": {
    "application/vnd.databricks.v1+cell": {
     "cellMetadata": {},
     "inputWidgets": {},
     "nuid": "d69de054-a089-4771-a406-098e14dbf709",
     "showTitle": false,
     "title": ""
    }
   },
   "source": [
    "#HOW TO USE RANK FUNCTION IN DATABRICKS "
   ]
  },
  {
   "cell_type": "code",
   "execution_count": 0,
   "metadata": {
    "application/vnd.databricks.v1+cell": {
     "cellMetadata": {
      "byteLimit": 2048000,
      "rowLimit": 10000
     },
     "inputWidgets": {},
     "nuid": "ff132db0-f190-4fa8-b3fc-3b0b5322666b",
     "showTitle": false,
     "title": ""
    }
   },
   "outputs": [
    {
     "output_type": "stream",
     "name": "stdout",
     "output_type": "stream",
     "text": [
      "+-------+----------+------+----+\n|   Name|Department|Salary|Rank|\n+-------+----------+------+----+\n|    Jen|   Finance|  3900|   1|\n|  Scott|   Finance|  3300|   2|\n|  Maria|   Finance|  3000|   3|\n|  Raman|   Finance|  3000|   3|\n|   Jeff| Marketing|  3000|   1|\n|  Kumar| Marketing|  2000|   2|\n|Michael|     Sales|  4600|   1|\n| Robert|     Sales|  4100|   2|\n|  James|     Sales|  3000|   3|\n+-------+----------+------+----+\n\n"
     ]
    }
   ],
   "source": [
    "Window_Dense=Window.partitionBy(\"Department\").orderBy(col(\"Salary\").desc())\n",
    "\n",
    "df_rank=df.withColumn(\"Rank\",rank().over(Window_Dense))\n",
    "# Add a new column with dense ranks within each department\n",
    "\n",
    "\n",
    "\n",
    "# Show the result\n",
    "df_rank.show()"
   ]
  },
  {
   "cell_type": "markdown",
   "metadata": {
    "application/vnd.databricks.v1+cell": {
     "cellMetadata": {},
     "inputWidgets": {},
     "nuid": "ce3fddb6-4f2e-43db-9db6-ee0cab0bf09b",
     "showTitle": false,
     "title": ""
    }
   },
   "source": [
    "## Filter 3rd Highest salary by each department by Rank function "
   ]
  },
  {
   "cell_type": "code",
   "execution_count": 0,
   "metadata": {
    "application/vnd.databricks.v1+cell": {
     "cellMetadata": {
      "byteLimit": 2048000,
      "rowLimit": 10000
     },
     "inputWidgets": {},
     "nuid": "cb333e4e-8924-4c6f-9059-bf9d81d8a13d",
     "showTitle": false,
     "title": ""
    }
   },
   "outputs": [
    {
     "output_type": "stream",
     "name": "stdout",
     "output_type": "stream",
     "text": [
      "+-----+----------+------+----+\n| Name|Department|Salary|Rank|\n+-----+----------+------+----+\n|Maria|   Finance|  3000|   3|\n|Raman|   Finance|  3000|   3|\n|James|     Sales|  3000|   3|\n+-----+----------+------+----+\n\n"
     ]
    }
   ],
   "source": [
    "df_filter_rank= df_rank.filter(col(\"Rank\")==3)\n",
    "df_filter_rank.show()"
   ]
  },
  {
   "cell_type": "markdown",
   "metadata": {
    "application/vnd.databricks.v1+cell": {
     "cellMetadata": {},
     "inputWidgets": {},
     "nuid": "60da4e2e-a4ce-4358-bbf3-9bca7c030940",
     "showTitle": false,
     "title": ""
    }
   },
   "source": [
    "## Group By sum of salary "
   ]
  },
  {
   "cell_type": "code",
   "execution_count": 0,
   "metadata": {
    "application/vnd.databricks.v1+cell": {
     "cellMetadata": {
      "byteLimit": 2048000,
      "rowLimit": 10000
     },
     "inputWidgets": {},
     "nuid": "828b3060-4bf0-4dff-8da2-54d4688dc85d",
     "showTitle": false,
     "title": ""
    }
   },
   "outputs": [
    {
     "output_type": "display_data",
     "data": {
      "text/html": [
       "<style scoped>\n",
       "  .table-result-container {\n",
       "    max-height: 300px;\n",
       "    overflow: auto;\n",
       "  }\n",
       "  table, th, td {\n",
       "    border: 1px solid black;\n",
       "    border-collapse: collapse;\n",
       "  }\n",
       "  th, td {\n",
       "    padding: 5px;\n",
       "  }\n",
       "  th {\n",
       "    text-align: left;\n",
       "  }\n",
       "</style><div class='table-result-container'><table class='table-result'><thead style='background-color: white'><tr><th>Department</th><th>total_salary</th></tr></thead><tbody><tr><td>Sales</td><td>11700</td></tr><tr><td>Finance</td><td>13200</td></tr><tr><td>Marketing</td><td>5000</td></tr></tbody></table></div>"
      ]
     },
     "metadata": {
      "application/vnd.databricks.v1+output": {
       "addedWidgets": {},
       "aggData": [],
       "aggError": "",
       "aggOverflow": false,
       "aggSchema": [],
       "aggSeriesLimitReached": false,
       "aggType": "",
       "arguments": {},
       "columnCustomDisplayInfos": {},
       "data": [
        [
         "Sales",
         11700
        ],
        [
         "Finance",
         13200
        ],
        [
         "Marketing",
         5000
        ]
       ],
       "datasetInfos": [],
       "dbfsResultPath": null,
       "isJsonSchema": true,
       "metadata": {},
       "overflow": false,
       "plotOptions": {
        "customPlotOptions": {},
        "displayType": "table",
        "pivotAggregation": null,
        "pivotColumns": null,
        "xColumns": null,
        "yColumns": null
       },
       "removedWidgets": [],
       "schema": [
        {
         "metadata": "{}",
         "name": "Department",
         "type": "\"string\""
        },
        {
         "metadata": "{}",
         "name": "total_salary",
         "type": "\"long\""
        }
       ],
       "type": "table"
      }
     },
     "output_type": "display_data"
    }
   ],
   "source": [
    "from pyspark.sql.functions import sum\n",
    "\n",
    "df_sum = df.groupBy('Department') \\\n",
    "       .agg(sum('salary').alias('total_salary'))\n",
    "df_sum.display()"
   ]
  },
  {
   "cell_type": "code",
   "execution_count": 0,
   "metadata": {
    "application/vnd.databricks.v1+cell": {
     "cellMetadata": {},
     "inputWidgets": {},
     "nuid": "6358d561-fca0-441a-aa5a-190a3d01b057",
     "showTitle": false,
     "title": ""
    }
   },
   "outputs": [],
   "source": [
    "         ,  eac.__analysis_date\n",
    "                ,  cp.ssc\n",
    "                ,  cp.profile_class\n",
    "          from testing.ashpreet.elec_eac eac\n",
    "          \n",
    "          left \n",
    "          join  electricityconfigurationperiod as cp\n",
    "          on    cp.meter_point_id = eac.meter_point_id\n",
    "          and   eac.eac_effective_from_date between cp.effective_from_date and cp.effective_to_date\n",
    "          \n",
    "          where eac.__analysis_date = '{analysis_date_str}'\n",
    "\n",
    "          \"\"\")\n",
    "df_eac = df_eac.groupby(\"meter_point_id\").apply(process_data)\n",
    "\n",
    "# Grouped the ssc column, aggregate average of eac, count eac and filtered less than 10 and filtered ssc where not null.\n",
    "result = df_eac.groupBy(\"ssc\", \"__analysis_date\").agg(avg('eac').alias('Avg_eac'),count('eac').alias('eac_count')) \\\n",
    "           .filter(\"eac_count> 10\") \\\n",
    "           .filter(df_eac.ssc.isNotNull())\\\n",
    "            .orderBy(\"Avg_eac\")\n",
    "        \n",
    "# Displaying the result\n",
    "result.display()\n",
    "result.schema\n",
    "\n",
    "# Save the DataFrame as a table\n",
    "result.write \\\n",
    "    .mode(\"overwrite\") \\\n",
    "    .partitionBy(\"__analysis_date\") \\\n",
    "    .option(\"partitionOverwriteMode\", \"dynamic\") \\\n",
    "    .saveAsTable(TARGET_TABLE)"
   ]
  }
 ],
 "metadata": {
  "application/vnd.databricks.v1+notebook": {
   "dashboards": [],
   "environmentMetadata": null,
   "language": "python",
   "notebookMetadata": {
    "pythonIndentUnit": 4
   },
   "notebookName": "WINDOW FUNCTION 2nd & 3rd HIGHEST SALARY",
   "widgets": {}
  }
 },
 "nbformat": 4,
 "nbformat_minor": 0
}
